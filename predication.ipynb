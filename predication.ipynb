{
 "cells": [
  {
   "cell_type": "code",
   "id": "initial_id",
   "metadata": {
    "collapsed": true,
    "ExecuteTime": {
     "end_time": "2025-10-20T12:24:42.194894Z",
     "start_time": "2025-10-20T12:24:42.182820Z"
    }
   },
   "source": [
    "import tensorflow as tf\n",
    "from tensorflow.keras.models import Sequential\n",
    "from tensorflow.keras.layers import Dense\n",
    "from tensorflow.keras.callbacks import EarlyStopping, TensorBoard\n",
    "import numpy as np\n",
    "import pandas as pd"
   ],
   "outputs": [],
   "execution_count": 41
  },
  {
   "metadata": {
    "ExecuteTime": {
     "end_time": "2025-10-20T12:24:42.340825Z",
     "start_time": "2025-10-20T12:24:42.258637Z"
    }
   },
   "cell_type": "code",
   "source": [
    "from keras.src.saving import load_model\n",
    "import pickle\n",
    "\n",
    "model = load_model(\"model.h5\")\n",
    "\n",
    "with open(\"onehotencoder.pkl\", 'rb') as file:\n",
    "    onehotencoder = pickle.load(file)\n",
    "\n",
    "with open('labelencoder.pkl', 'rb') as file:\n",
    "    labelencoder = pickle.load(file)\n",
    "\n",
    "with open('scaler.pkl', 'rb') as file:\n",
    "    scaler = pickle.load(file)"
   ],
   "id": "2747f2df93840f6e",
   "outputs": [
    {
     "name": "stderr",
     "output_type": "stream",
     "text": [
      "WARNING:absl:Compiled the loaded model, but the compiled metrics have yet to be built. `model.compile_metrics` will be empty until you train or evaluate the model.\n"
     ]
    }
   ],
   "execution_count": 42
  },
  {
   "metadata": {
    "ExecuteTime": {
     "end_time": "2025-10-20T12:24:42.386006Z",
     "start_time": "2025-10-20T12:24:42.377329Z"
    }
   },
   "cell_type": "code",
   "source": [
    "input_data = {\n",
    "    'CreditScore': 600,\n",
    "'Geography' : 'France' ,\n",
    "'Gender' : 'Male' ,\n",
    "'Age' : 40,\n",
    "'Tenure' : 3,\n",
    "'Balance': 60000,\n",
    "'NumOfProducts': 2,\n",
    "'HasCrCard' : 1,\n",
    "'IsActiveMember': 1,\n",
    "'EstimatedSalary': 50000\n",
    "}"
   ],
   "id": "3828f452bce0d772",
   "outputs": [],
   "execution_count": 43
  },
  {
   "metadata": {
    "ExecuteTime": {
     "end_time": "2025-10-20T12:24:42.444058Z",
     "start_time": "2025-10-20T12:24:42.431921Z"
    }
   },
   "cell_type": "code",
   "source": [
    "geo_encoded = onehotencoder.transform([[input_data['Geography']]]).toarray()\n",
    "geo_encoded_df = pd.DataFrame(\n",
    "    geo_encoded,\n",
    "    columns=onehotencoder.get_feature_names_out(['Geography'])\n",
    ")"
   ],
   "id": "820f6bf57db020f8",
   "outputs": [
    {
     "name": "stderr",
     "output_type": "stream",
     "text": [
      "C:\\Users\\ak845\\PycharmProjects\\AIML\\.venv\\Lib\\site-packages\\sklearn\\utils\\validation.py:2739: UserWarning: X does not have valid feature names, but OneHotEncoder was fitted with feature names\n",
      "  warnings.warn(\n"
     ]
    }
   ],
   "execution_count": 44
  },
  {
   "metadata": {
    "ExecuteTime": {
     "end_time": "2025-10-20T12:24:42.499947Z",
     "start_time": "2025-10-20T12:24:42.487038Z"
    }
   },
   "cell_type": "code",
   "source": "input_data['Gender'] = labelencoder.transform([input_data['Gender']])[0]",
   "id": "9ee1d11aa3e50ed3",
   "outputs": [],
   "execution_count": 45
  },
  {
   "metadata": {
    "ExecuteTime": {
     "end_time": "2025-10-20T12:24:42.556411Z",
     "start_time": "2025-10-20T12:24:42.542529Z"
    }
   },
   "cell_type": "code",
   "source": [
    "input_df = pd.DataFrame([input_data]).drop(['Geography'], axis=1)\n",
    "input_df = pd.concat([input_df, geo_encoded_df], axis=1)"
   ],
   "id": "8313852d3b1f500",
   "outputs": [],
   "execution_count": 46
  },
  {
   "metadata": {
    "ExecuteTime": {
     "end_time": "2025-10-20T12:24:42.623508Z",
     "start_time": "2025-10-20T12:24:42.601365Z"
    }
   },
   "cell_type": "code",
   "source": "input_df",
   "id": "722c0cbd95ad8ec4",
   "outputs": [
    {
     "data": {
      "text/plain": [
       "   CreditScore  Gender  Age  Tenure  Balance  NumOfProducts  HasCrCard  \\\n",
       "0          600       1   40       3    60000              2          1   \n",
       "\n",
       "   IsActiveMember  EstimatedSalary  Geography_France  Geography_Germany  \\\n",
       "0               1            50000               1.0                0.0   \n",
       "\n",
       "   Geography_Spain  \n",
       "0              0.0  "
      ],
      "text/html": [
       "<div>\n",
       "<style scoped>\n",
       "    .dataframe tbody tr th:only-of-type {\n",
       "        vertical-align: middle;\n",
       "    }\n",
       "\n",
       "    .dataframe tbody tr th {\n",
       "        vertical-align: top;\n",
       "    }\n",
       "\n",
       "    .dataframe thead th {\n",
       "        text-align: right;\n",
       "    }\n",
       "</style>\n",
       "<table border=\"1\" class=\"dataframe\">\n",
       "  <thead>\n",
       "    <tr style=\"text-align: right;\">\n",
       "      <th></th>\n",
       "      <th>CreditScore</th>\n",
       "      <th>Gender</th>\n",
       "      <th>Age</th>\n",
       "      <th>Tenure</th>\n",
       "      <th>Balance</th>\n",
       "      <th>NumOfProducts</th>\n",
       "      <th>HasCrCard</th>\n",
       "      <th>IsActiveMember</th>\n",
       "      <th>EstimatedSalary</th>\n",
       "      <th>Geography_France</th>\n",
       "      <th>Geography_Germany</th>\n",
       "      <th>Geography_Spain</th>\n",
       "    </tr>\n",
       "  </thead>\n",
       "  <tbody>\n",
       "    <tr>\n",
       "      <th>0</th>\n",
       "      <td>600</td>\n",
       "      <td>1</td>\n",
       "      <td>40</td>\n",
       "      <td>3</td>\n",
       "      <td>60000</td>\n",
       "      <td>2</td>\n",
       "      <td>1</td>\n",
       "      <td>1</td>\n",
       "      <td>50000</td>\n",
       "      <td>1.0</td>\n",
       "      <td>0.0</td>\n",
       "      <td>0.0</td>\n",
       "    </tr>\n",
       "  </tbody>\n",
       "</table>\n",
       "</div>"
      ]
     },
     "execution_count": 47,
     "metadata": {},
     "output_type": "execute_result"
    }
   ],
   "execution_count": 47
  },
  {
   "metadata": {
    "ExecuteTime": {
     "end_time": "2025-10-20T12:24:42.749795Z",
     "start_time": "2025-10-20T12:24:42.739250Z"
    }
   },
   "cell_type": "code",
   "source": "input_scaled = scaler.transform(input_df)",
   "id": "e952a1b4ee1e261a",
   "outputs": [],
   "execution_count": 48
  },
  {
   "metadata": {
    "ExecuteTime": {
     "end_time": "2025-10-20T12:24:43.094644Z",
     "start_time": "2025-10-20T12:24:42.854650Z"
    }
   },
   "cell_type": "code",
   "source": "prediction = model.predict(input_scaled)",
   "id": "b316f28b7f5bafce",
   "outputs": [
    {
     "name": "stdout",
     "output_type": "stream",
     "text": [
      "\u001B[1m1/1\u001B[0m \u001B[32m━━━━━━━━━━━━━━━━━━━━\u001B[0m\u001B[37m\u001B[0m \u001B[1m0s\u001B[0m 141ms/step\n"
     ]
    }
   ],
   "execution_count": 49
  },
  {
   "metadata": {
    "ExecuteTime": {
     "end_time": "2025-10-20T12:24:43.303778Z",
     "start_time": "2025-10-20T12:24:43.292449Z"
    }
   },
   "cell_type": "code",
   "source": "prediction",
   "id": "8daa1b7fbb2b8522",
   "outputs": [
    {
     "data": {
      "text/plain": [
       "array([[0.0408998]], dtype=float32)"
      ]
     },
     "execution_count": 50,
     "metadata": {},
     "output_type": "execute_result"
    }
   ],
   "execution_count": 50
  },
  {
   "metadata": {
    "ExecuteTime": {
     "end_time": "2025-10-20T12:24:43.437769Z",
     "start_time": "2025-10-20T12:24:43.422142Z"
    }
   },
   "cell_type": "code",
   "source": [
    "if prediction[0] > 0.5:\n",
    "    print('Yes')\n",
    "else:\n",
    "    print('No')"
   ],
   "id": "f4aec1486b4dc765",
   "outputs": [
    {
     "name": "stdout",
     "output_type": "stream",
     "text": [
      "No\n"
     ]
    }
   ],
   "execution_count": 51
  }
 ],
 "metadata": {
  "kernelspec": {
   "display_name": "Python 3",
   "language": "python",
   "name": "python3"
  },
  "language_info": {
   "codemirror_mode": {
    "name": "ipython",
    "version": 2
   },
   "file_extension": ".py",
   "mimetype": "text/x-python",
   "name": "python",
   "nbconvert_exporter": "python",
   "pygments_lexer": "ipython2",
   "version": "2.7.6"
  }
 },
 "nbformat": 4,
 "nbformat_minor": 5
}
